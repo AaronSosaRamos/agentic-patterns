{
  "nbformat": 4,
  "nbformat_minor": 0,
  "metadata": {
    "colab": {
      "provenance": []
    },
    "kernelspec": {
      "name": "python3",
      "display_name": "Python 3"
    },
    "language_info": {
      "name": "python"
    }
  },
  "cells": [
    {
      "cell_type": "markdown",
      "source": [
        "#1. ReAct Agent (LangGraph)\n",
        "Made by: Wilfredo Aaron Sosa Ramos"
      ],
      "metadata": {
        "id": "EDJ65XDNApE_"
      }
    },
    {
      "cell_type": "code",
      "execution_count": 1,
      "metadata": {
        "colab": {
          "base_uri": "https://localhost:8080/"
        },
        "id": "_55C-Ae8AmIP",
        "outputId": "6d6eba2e-5db0-4fc7-ecb8-aa4528cd5d83"
      },
      "outputs": [
        {
          "output_type": "stream",
          "name": "stdout",
          "text": [
            "\u001b[?25l   \u001b[90m━━━━━━━━━━━━━━━━━━━━━━━━━━━━━━━━━━━━━━━━\u001b[0m \u001b[32m0.0/2.5 MB\u001b[0m \u001b[31m?\u001b[0m eta \u001b[36m-:--:--\u001b[0m\r\u001b[2K   \u001b[91m━━━━━━━━━━━━━\u001b[0m\u001b[90m╺\u001b[0m\u001b[90m━━━━━━━━━━━━━━━━━━━━━━━━━━\u001b[0m \u001b[32m0.8/2.5 MB\u001b[0m \u001b[31m26.8 MB/s\u001b[0m eta \u001b[36m0:00:01\u001b[0m\r\u001b[2K   \u001b[91m━━━━━━━━━━━━━━━━━━━━━━━━━━━━━━━━━━━━━━━\u001b[0m\u001b[91m╸\u001b[0m \u001b[32m2.5/2.5 MB\u001b[0m \u001b[31m53.5 MB/s\u001b[0m eta \u001b[36m0:00:01\u001b[0m\r\u001b[2K   \u001b[90m━━━━━━━━━━━━━━━━━━━━━━━━━━━━━━━━━━━━━━━━\u001b[0m \u001b[32m2.5/2.5 MB\u001b[0m \u001b[31m32.9 MB/s\u001b[0m eta \u001b[36m0:00:00\u001b[0m\n",
            "\u001b[?25h\u001b[?25l   \u001b[90m━━━━━━━━━━━━━━━━━━━━━━━━━━━━━━━━━━━━━━━━\u001b[0m \u001b[32m0.0/142.6 kB\u001b[0m \u001b[31m?\u001b[0m eta \u001b[36m-:--:--\u001b[0m\r\u001b[2K   \u001b[90m━━━━━━━━━━━━━━━━━━━━━━━━━━━━━━━━━━━━━━━━\u001b[0m \u001b[32m142.6/142.6 kB\u001b[0m \u001b[31m8.1 MB/s\u001b[0m eta \u001b[36m0:00:00\u001b[0m\n",
            "\u001b[2K   \u001b[90m━━━━━━━━━━━━━━━━━━━━━━━━━━━━━━━━━━━━━━━━\u001b[0m \u001b[32m41.5/41.5 kB\u001b[0m \u001b[31m2.3 MB/s\u001b[0m eta \u001b[36m0:00:00\u001b[0m\n",
            "\u001b[2K   \u001b[90m━━━━━━━━━━━━━━━━━━━━━━━━━━━━━━━━━━━━━━━━\u001b[0m \u001b[32m44.7/44.7 kB\u001b[0m \u001b[31m2.5 MB/s\u001b[0m eta \u001b[36m0:00:00\u001b[0m\n",
            "\u001b[2K   \u001b[90m━━━━━━━━━━━━━━━━━━━━━━━━━━━━━━━━━━━━━━━━\u001b[0m \u001b[32m49.6/49.6 kB\u001b[0m \u001b[31m3.1 MB/s\u001b[0m eta \u001b[36m0:00:00\u001b[0m\n",
            "\u001b[?25h"
          ]
        }
      ],
      "source": [
        "!pip install -q langchain langchain_core langchain_community langgraph langchain_google_genai"
      ]
    },
    {
      "cell_type": "code",
      "source": [
        "import os\n",
        "from google.colab import userdata\n",
        "\n",
        "def _set_env(var: str):\n",
        "    if not os.environ.get(var):\n",
        "        os.environ[var] = userdata.get(var)\n",
        "\n",
        "_set_env(\"GOOGLE_API_KEY\")"
      ],
      "metadata": {
        "id": "qKlC8vkIAz8R"
      },
      "execution_count": 2,
      "outputs": []
    },
    {
      "cell_type": "code",
      "source": [
        "from typing import (\n",
        "    Annotated,\n",
        "    Sequence,\n",
        "    TypedDict,\n",
        ")\n",
        "from langchain_core.messages import BaseMessage\n",
        "from langgraph.graph.message import add_messages\n",
        "\n",
        "\n",
        "class AgentState(TypedDict):\n",
        "    \"\"\"The state of the agent.\"\"\"\n",
        "\n",
        "    # add_messages is a reducer\n",
        "    # See https://langchain-ai.github.io/langgraph/concepts/low_level/#reducers\n",
        "    messages: Annotated[Sequence[BaseMessage], add_messages]"
      ],
      "metadata": {
        "id": "_XaehC0EA9_v"
      },
      "execution_count": 3,
      "outputs": []
    },
    {
      "cell_type": "code",
      "source": [
        "from langchain_google_genai import ChatGoogleGenerativeAI\n",
        "from langchain_core.tools import tool\n",
        "\n",
        "model = ChatGoogleGenerativeAI(model=\"gemini-2.0-flash-exp\")\n",
        "\n",
        "@tool\n",
        "def get_gdp(country: str):\n",
        "    \"\"\"\n",
        "    Retrieves the latest GDP data for a specified country.\n",
        "    \"\"\"\n",
        "    # Placeholder implementation\n",
        "    # For demonstration purposes only\n",
        "    dummy_gdp_data = {\n",
        "        \"usa\": \"21 trillion USD\",\n",
        "        \"china\": \"14 trillion USD\",\n",
        "        \"japan\": \"5 trillion USD\",\n",
        "        \"germany\": \"4 trillion USD\"\n",
        "    }\n",
        "    return dummy_gdp_data.get(country.lower(), f\"No data available for {country}\")\n",
        "\n",
        "@tool\n",
        "def calculate_inflation(base_price: float, current_price: float):\n",
        "    \"\"\"\n",
        "    Calculates the inflation rate given a base price and a current price.\n",
        "    Returns the inflation rate as a percentage.\n",
        "    \"\"\"\n",
        "    # Placeholder calculation for demonstration\n",
        "    if base_price <= 0:\n",
        "        return \"Invalid base price.\"\n",
        "    inflation_rate = ((current_price - base_price) / base_price) * 100\n",
        "    return f\"The inflation rate is {inflation_rate:.2f}%\"\n",
        "\n",
        "@tool\n",
        "def get_economic_indicators(country: str):\n",
        "    \"\"\"\n",
        "    Provides various economic indicators (e.g., unemployment rate, interest rate)\n",
        "    for a given country.\n",
        "    \"\"\"\n",
        "    # Placeholder implementation\n",
        "    indicators = {\n",
        "        \"usa\": {\"unemployment_rate\": \"3.5%\", \"interest_rate\": \"5.0%\"},\n",
        "        \"china\": {\"unemployment_rate\": \"5.5%\", \"interest_rate\": \"3.7%\"},\n",
        "        \"japan\": {\"unemployment_rate\": \"2.6%\", \"interest_rate\": \"-0.1%\"}\n",
        "    }\n",
        "    return indicators.get(country.lower(), f\"No indicators available for {country}\")\n",
        "\n",
        "@tool\n",
        "def list_kpis_for_sector(sector: str):\n",
        "    \"\"\"\n",
        "    Lists common KPIs for a given economic or industrial sector.\n",
        "    \"\"\"\n",
        "    # Placeholder lists of KPIs\n",
        "    sector_kpis = {\n",
        "        \"retail\": [\"Same-Store Sales\", \"Average Transaction Value\", \"Customer Retention Rate\"],\n",
        "        \"manufacturing\": [\"Overall Equipment Effectiveness\", \"Unit Production Cost\", \"Cycle Time\"],\n",
        "        \"technology\": [\"Monthly Active Users\", \"Customer Acquisition Cost\", \"Churn Rate\"],\n",
        "        \"healthcare\": [\"Bed Occupancy Rate\", \"Patient Satisfaction Score\", \"Readmission Rate\"]\n",
        "    }\n",
        "    return sector_kpis.get(sector.lower(), f\"No KPIs available for {sector}\")\n",
        "\n",
        "@tool\n",
        "def get_financial_ratios(company: str):\n",
        "    \"\"\"\n",
        "    Retrieves basic financial ratios (e.g., P/E ratio, ROE) for a specified company.\n",
        "    \"\"\"\n",
        "    # Placeholder implementation\n",
        "    dummy_ratios = {\n",
        "        \"apple\": {\"P/E Ratio\": \"25.4\", \"ROE\": \"87%\"},\n",
        "        \"google\": {\"P/E Ratio\": \"30.1\", \"ROE\": \"17%\"},\n",
        "        \"tesla\": {\"P/E Ratio\": \"50.2\", \"ROE\": \"12%\"}\n",
        "    }\n",
        "    return dummy_ratios.get(company.lower(), f\"No data available for {company}\")\n",
        "\n",
        "tools = [\n",
        "    get_gdp,\n",
        "    calculate_inflation,\n",
        "    get_economic_indicators,\n",
        "    list_kpis_for_sector,\n",
        "    get_financial_ratios\n",
        "]\n",
        "\n",
        "model = model.bind_tools(tools)"
      ],
      "metadata": {
        "id": "HvxfCQuTBEkd"
      },
      "execution_count": 4,
      "outputs": []
    },
    {
      "cell_type": "code",
      "source": [
        "import json\n",
        "from langchain_core.messages import ToolMessage, SystemMessage\n",
        "from langchain_core.runnables import RunnableConfig\n",
        "\n",
        "tools_by_name = {tool.name: tool for tool in tools}\n",
        "\n",
        "\n",
        "# Define our tool node\n",
        "def tool_node(state: AgentState):\n",
        "    outputs = []\n",
        "    for tool_call in state[\"messages\"][-1].tool_calls:\n",
        "        tool_result = tools_by_name[tool_call[\"name\"]].invoke(tool_call[\"args\"])\n",
        "        outputs.append(\n",
        "            ToolMessage(\n",
        "                content=json.dumps(tool_result),\n",
        "                name=tool_call[\"name\"],\n",
        "                tool_call_id=tool_call[\"id\"],\n",
        "            )\n",
        "        )\n",
        "    return {\"messages\": outputs}\n",
        "\n",
        "\n",
        "# Define the node that calls the model\n",
        "def call_model(\n",
        "    state: AgentState,\n",
        "    config: RunnableConfig,\n",
        "):\n",
        "    # this is similar to customizing the create_react_agent with state_modifier, but is a lot more flexible\n",
        "    system_prompt = SystemMessage(\n",
        "        \"You are a helpful AI assistant, please respond to the users query to the best of your ability!\"\n",
        "    )\n",
        "    response = model.invoke([system_prompt] + state[\"messages\"], config)\n",
        "    # We return a list, because this will get added to the existing list\n",
        "    return {\"messages\": [response]}\n",
        "\n",
        "\n",
        "# Define the conditional edge that determines whether to continue or not\n",
        "def should_continue(state: AgentState):\n",
        "    messages = state[\"messages\"]\n",
        "    last_message = messages[-1]\n",
        "    # If there is no function call, then we finish\n",
        "    if not last_message.tool_calls:\n",
        "        return \"end\"\n",
        "    # Otherwise if there is, we continue\n",
        "    else:\n",
        "        return \"continue\""
      ],
      "metadata": {
        "id": "EXy9PszwBtxn"
      },
      "execution_count": 5,
      "outputs": []
    },
    {
      "cell_type": "code",
      "source": [
        "from langgraph.graph import StateGraph, END\n",
        "\n",
        "# Define a new graph\n",
        "workflow = StateGraph(AgentState)\n",
        "\n",
        "# Define the two nodes we will cycle between\n",
        "workflow.add_node(\"agent\", call_model)\n",
        "workflow.add_node(\"tools\", tool_node)\n",
        "\n",
        "# Set the entrypoint as `agent`\n",
        "# This means that this node is the first one called\n",
        "workflow.set_entry_point(\"agent\")\n",
        "\n",
        "# We now add a conditional edge\n",
        "workflow.add_conditional_edges(\n",
        "    # First, we define the start node. We use `agent`.\n",
        "    # This means these are the edges taken after the `agent` node is called.\n",
        "    \"agent\",\n",
        "    # Next, we pass in the function that will determine which node is called next.\n",
        "    should_continue,\n",
        "    # Finally we pass in a mapping.\n",
        "    # The keys are strings, and the values are other nodes.\n",
        "    # END is a special node marking that the graph should finish.\n",
        "    # What will happen is we will call `should_continue`, and then the output of that\n",
        "    # will be matched against the keys in this mapping.\n",
        "    # Based on which one it matches, that node will then be called.\n",
        "    {\n",
        "        # If `tools`, then we call the tool node.\n",
        "        \"continue\": \"tools\",\n",
        "        # Otherwise we finish.\n",
        "        \"end\": END,\n",
        "    },\n",
        ")\n",
        "\n",
        "# We now add a normal edge from `tools` to `agent`.\n",
        "# This means that after `tools` is called, `agent` node is called next.\n",
        "workflow.add_edge(\"tools\", \"agent\")\n",
        "\n",
        "# Now we can compile and visualize our graph\n",
        "graph = workflow.compile()\n",
        "\n",
        "from IPython.display import Image, display\n",
        "\n",
        "try:\n",
        "    display(Image(graph.get_graph().draw_mermaid_png()))\n",
        "except Exception:\n",
        "    # This requires some extra dependencies and is optional\n",
        "    pass"
      ],
      "metadata": {
        "colab": {
          "base_uri": "https://localhost:8080/",
          "height": 290
        },
        "id": "c7LAOpvuBzgd",
        "outputId": "27ce24e6-ffb9-45d0-ce6a-2faad4c0c869"
      },
      "execution_count": 6,
      "outputs": [
        {
          "output_type": "display_data",
          "data": {
            "image/png": "[encoded data removed]",
            "text/plain": [
              "<IPython.core.display.Image object>"
            ]
          },
          "metadata": {}
        }
      ]
    },
    {
      "cell_type": "code",
      "source": [
        "def print_stream(stream):\n",
        "  for s in stream:\n",
        "      message = s[\"messages\"][-1]\n",
        "      if isinstance(message, tuple):\n",
        "          print(message)\n",
        "      else:\n",
        "          message.pretty_print()"
      ],
      "metadata": {
        "id": "7PaQGU5FB5P-"
      },
      "execution_count": 7,
      "outputs": []
    },
    {
      "cell_type": "code",
      "source": [
        "inputs = {\"messages\": [(\"user\", \"Retrieve the GDP of the USA and China, and compare the unemployment rates and interest rates of these countries. Then, calculate the inflation rate in the USA based on a base price of $100 and a current price of $120.\")]}\n",
        "print_stream(graph.stream(inputs, stream_mode=\"values\"))"
      ],
      "metadata": {
        "colab": {
          "base_uri": "https://localhost:8080/"
        },
        "id": "cDOG79zcB7X8",
        "outputId": "3641f44a-262b-4c06-b4dd-5845aa3cae89"
      },
      "execution_count": 8,
      "outputs": [
        {
          "output_type": "stream",
          "name": "stdout",
          "text": [
            "================================\u001b[1m Human Message \u001b[0m=================================\n",
            "\n",
            "Retrieve the GDP of the USA and China, and compare the unemployment rates and interest rates of these countries. Then, calculate the inflation rate in the USA based on a base price of $100 and a current price of $120.\n",
            "==================================\u001b[1m Ai Message \u001b[0m==================================\n",
            "Tool Calls:\n",
            "  get_gdp (f5b4d720-9fae-4f7b-84a9-05bc913185cf)\n",
            " Call ID: f5b4d720-9fae-4f7b-84a9-05bc913185cf\n",
            "  Args:\n",
            "    country: USA\n",
            "  get_gdp (8c549daf-a291-4095-8ae6-83551af5e361)\n",
            " Call ID: 8c549daf-a291-4095-8ae6-83551af5e361\n",
            "  Args:\n",
            "    country: China\n",
            "  get_economic_indicators (7ab0e71c-8e22-4ec6-a839-71f5c04ec42c)\n",
            " Call ID: 7ab0e71c-8e22-4ec6-a839-71f5c04ec42c\n",
            "  Args:\n",
            "    country: USA\n",
            "  get_economic_indicators (35996223-83e0-4876-ae62-3b6d0ff55277)\n",
            " Call ID: 35996223-83e0-4876-ae62-3b6d0ff55277\n",
            "  Args:\n",
            "    country: China\n",
            "  calculate_inflation (4bdd58f1-148a-43e4-9993-3bc33206aa56)\n",
            " Call ID: 4bdd58f1-148a-43e4-9993-3bc33206aa56\n",
            "  Args:\n",
            "    current_price: 120.0\n",
            "    base_price: 100.0\n",
            "=================================\u001b[1m Tool Message \u001b[0m=================================\n",
            "Name: calculate_inflation\n",
            "\n",
            "\"The inflation rate is 20.00%\"\n",
            "==================================\u001b[1m Ai Message \u001b[0m==================================\n",
            "\n",
            "The GDP of the USA is 21 trillion USD, while the GDP of China is 14 trillion USD. The unemployment rate in the USA is 3.5%, and the interest rate is 5.0%. In China, the unemployment rate is 5.5%, and the interest rate is 3.7%. Finally, the inflation rate in the USA, based on a base price of $100 and a current price of $120, is 20.00%.\n"
          ]
        }
      ]
    },
    {
      "cell_type": "code",
      "source": [
        "inputs = {\"messages\": [(\"user\", \"List the key performance indicators (KPIs) for the retail and technology sectors. Using these KPIs, identify metrics suitable for evaluating the performance of a leading company in each sector.\")]}\n",
        "print_stream(graph.stream(inputs, stream_mode=\"values\"))"
      ],
      "metadata": {
        "colab": {
          "base_uri": "https://localhost:8080/"
        },
        "id": "WHH0ryFyCm1B",
        "outputId": "0df7c090-67c5-4929-84df-5609d92955c3"
      },
      "execution_count": 9,
      "outputs": [
        {
          "output_type": "stream",
          "name": "stdout",
          "text": [
            "================================\u001b[1m Human Message \u001b[0m=================================\n",
            "\n",
            "List the key performance indicators (KPIs) for the retail and technology sectors. Using these KPIs, identify metrics suitable for evaluating the performance of a leading company in each sector.\n",
            "==================================\u001b[1m Ai Message \u001b[0m==================================\n",
            "Tool Calls:\n",
            "  list_kpis_for_sector (ea6b27ae-776f-438d-835e-4fd119470f60)\n",
            " Call ID: ea6b27ae-776f-438d-835e-4fd119470f60\n",
            "  Args:\n",
            "    sector: retail\n",
            "  list_kpis_for_sector (c4d053f5-2e69-4495-93ec-e3986ff93202)\n",
            " Call ID: c4d053f5-2e69-4495-93ec-e3986ff93202\n",
            "  Args:\n",
            "    sector: technology\n",
            "=================================\u001b[1m Tool Message \u001b[0m=================================\n",
            "Name: list_kpis_for_sector\n",
            "\n",
            "[\"Monthly Active Users\", \"Customer Acquisition Cost\", \"Churn Rate\"]\n",
            "==================================\u001b[1m Ai Message \u001b[0m==================================\n",
            "\n",
            "Okay, here are the KPIs for the retail and technology sectors, and some suitable metrics for evaluating a leading company in each:\n",
            "\n",
            "**Retail Sector KPIs:**\n",
            "\n",
            "*   **Same-Store Sales:** This KPI tracks the revenue generated by stores that have been open for a year or more.\n",
            "*   **Average Transaction Value:** This KPI measures the average amount spent by customers per transaction.\n",
            "*   **Customer Retention Rate:** This KPI indicates the percentage of customers who continue to purchase from the retailer over a specific period.\n",
            "\n",
            "**Technology Sector KPIs:**\n",
            "\n",
            "*   **Monthly Active Users (MAU):** This KPI tracks the number of unique users who engage with a technology product or platform each month.\n",
            "*   **Customer Acquisition Cost (CAC):** This KPI measures the cost of acquiring a new customer.\n",
            "*  **Churn Rate:** This KPI indicates the percentage of customers who stop using a product or service over a specific period.\n",
            "\n",
            "**Metrics for Evaluating Leading Companies:**\n",
            "\n",
            "*   **Retail:** A leading retail company could be evaluated using metrics like:\n",
            "    *   **Growth in Same-Store Sales:** A strong positive growth rate indicates healthy performance.\n",
            "    *   **High Customer Retention Rate:** A high rate indicates customer loyalty and satisfaction.\n",
            "    *   **Increasing Average Transaction Value:** This suggests effective upselling and merchandising strategies.\n",
            "*   **Technology:** A leading technology company could be evaluated using metrics like:\n",
            "    *   **High MAU Growth:** A high growth rate indicates strong user adoption and engagement.\n",
            "    *   **Low Customer Acquisition Cost:** A low CAC indicates efficient marketing and sales strategies.\n",
            "    *   **Low Churn Rate:** A low churn rate suggests a sticky product with satisfied customers.\n"
          ]
        }
      ]
    },
    {
      "cell_type": "code",
      "source": [
        "inputs = {\"messages\": [(\"user\", \"Fetch the financial ratios for Tesla and Apple, then analyze the differences in their P/E ratios and ROEs. Discuss how these differences reflect on their respective market strategies and investor appeal.\")]}\n",
        "print_stream(graph.stream(inputs, stream_mode=\"values\"))"
      ],
      "metadata": {
        "colab": {
          "base_uri": "https://localhost:8080/"
        },
        "id": "yrrXiRW3Cmkf",
        "outputId": "f81fafa9-6e19-4f9e-97fe-1fd71b2fbc9d"
      },
      "execution_count": 10,
      "outputs": [
        {
          "output_type": "stream",
          "name": "stdout",
          "text": [
            "================================\u001b[1m Human Message \u001b[0m=================================\n",
            "\n",
            "Fetch the financial ratios for Tesla and Apple, then analyze the differences in their P/E ratios and ROEs. Discuss how these differences reflect on their respective market strategies and investor appeal.\n",
            "==================================\u001b[1m Ai Message \u001b[0m==================================\n",
            "Tool Calls:\n",
            "  get_financial_ratios (e14d4718-cf26-450b-8fe4-3250c2d0dec4)\n",
            " Call ID: e14d4718-cf26-450b-8fe4-3250c2d0dec4\n",
            "  Args:\n",
            "    company: Tesla\n",
            "  get_financial_ratios (633a5dc6-def8-4cfb-b0b3-874ed2b5f5a6)\n",
            " Call ID: 633a5dc6-def8-4cfb-b0b3-874ed2b5f5a6\n",
            "  Args:\n",
            "    company: Apple\n",
            "=================================\u001b[1m Tool Message \u001b[0m=================================\n",
            "Name: get_financial_ratios\n",
            "\n",
            "{\"P/E Ratio\": \"25.4\", \"ROE\": \"87%\"}\n",
            "==================================\u001b[1m Ai Message \u001b[0m==================================\n",
            "\n",
            "Okay, I've fetched the financial ratios for both Tesla and Apple.\n",
            "\n",
            "Tesla:\n",
            "*   P/E Ratio: 50.2\n",
            "*   ROE: 12%\n",
            "\n",
            "Apple:\n",
            "*   P/E Ratio: 25.4\n",
            "*   ROE: 87%\n",
            "\n",
            "Analysis:\n",
            "\n",
            "P/E Ratio: Tesla's P/E ratio is significantly higher than Apple's (50.2 vs 25.4). This suggests that investors have higher expectations for Tesla's future earnings growth compared to Apple. Tesla's high P/E could also indicate that the stock is potentially overvalued, or that investors are willing to pay a premium for its growth prospects in the electric vehicle and renewable energy sectors. On the other hand, Apple's lower P/E ratio might indicate that it is a more mature company with more stable but potentially slower growth.\n",
            "\n",
            "ROE: Apple's ROE is substantially higher than Tesla's (87% vs 12%). This indicates that Apple is more efficient at generating profit from shareholders' investments than Tesla. Apple's high ROE reflects its strong profitability and efficient use of equity. Tesla's lower ROE suggests that it may not be generating as much profit relative to its equity, which could be due to higher capital expenditures or lower profit margins.\n",
            "\n",
            "Market Strategies and Investor Appeal:\n",
            "\n",
            "Tesla: Tesla's high P/E ratio suggests that its market strategy is focused on high-growth and future innovation, particularly in the electric vehicle, battery technology, and renewable energy sectors. Investors are likely attracted to its disruptive potential and long-term growth prospects, even if it means a higher valuation and lower current profitability.\n",
            "\n",
            "Apple: Apple's lower P/E ratio and high ROE indicate a market strategy focused on stability, profitability, and shareholder returns. Investors are likely attracted to its consistent performance, strong brand, and efficient operations. The company's high ROE makes it appealing to investors seeking reliable returns on their investments.\n",
            "\n",
            "In conclusion, the differences in P/E ratios and ROEs between Tesla and Apple reflect their differing market strategies and investor appeal. Tesla is seen as a high-growth, high-risk investment, while Apple is viewed as a more stable, mature company with strong profitability.\n"
          ]
        }
      ]
    },
    {
      "cell_type": "code",
      "source": [
        "inputs = {\"messages\": [(\"user\", \"Retrieve economic indicators for Japan and calculate how changes in interest rates and unemployment rates might influence the technology sector's KPIs, particularly focusing on Monthly Active Users and Customer Acquisition Cost.\")]}\n",
        "print_stream(graph.stream(inputs, stream_mode=\"values\"))"
      ],
      "metadata": {
        "colab": {
          "base_uri": "https://localhost:8080/"
        },
        "id": "S5XqTkF5C4fG",
        "outputId": "06aa2806-f32c-4ead-bf72-fb1d8dc46282"
      },
      "execution_count": 11,
      "outputs": [
        {
          "output_type": "stream",
          "name": "stdout",
          "text": [
            "================================\u001b[1m Human Message \u001b[0m=================================\n",
            "\n",
            "Retrieve economic indicators for Japan and calculate how changes in interest rates and unemployment rates might influence the technology sector's KPIs, particularly focusing on Monthly Active Users and Customer Acquisition Cost.\n",
            "==================================\u001b[1m Ai Message \u001b[0m==================================\n",
            "Tool Calls:\n",
            "  get_economic_indicators (d205ed4c-43fd-455e-84a6-d0ed5fda8684)\n",
            " Call ID: d205ed4c-43fd-455e-84a6-d0ed5fda8684\n",
            "  Args:\n",
            "    country: Japan\n",
            "=================================\u001b[1m Tool Message \u001b[0m=================================\n",
            "Name: get_economic_indicators\n",
            "\n",
            "{\"unemployment_rate\": \"2.6%\", \"interest_rate\": \"-0.1%\"}\n",
            "==================================\u001b[1m Ai Message \u001b[0m==================================\n",
            "\n",
            "Okay, I have the current interest rate (-0.1%) and unemployment rate (2.6%) for Japan.\n",
            "\n",
            "Changes in these indicators can indeed influence the technology sector's KPIs like Monthly Active Users (MAU) and Customer Acquisition Cost (CAC). Here's how:\n",
            "\n",
            "**Interest Rates:**\n",
            "\n",
            "*   **Lower interest rates** (like the current -0.1%): Generally, lower interest rates can stimulate borrowing and investment. This might lead to:\n",
            "    *   **Increased MAU:** More people might have disposable income or access to credit, leading to higher spending on technology products/services, thus potentially increasing MAU.\n",
            "    *   **Potentially Lower CAC:** Increased investment might allow tech companies to expand their marketing reach, potentially lowering CAC due to increased market activity.\n",
            "*   **Higher interest rates:** Conversely, higher rates can make borrowing more expensive, which might reduce consumer spending and investment, potentially leading to:\n",
            "    *   **Decreased or stagnant MAU:** Reduced consumer spending could lead to decreased usage of tech products/services, impacting MAU.\n",
            "    *   **Increased CAC:** Companies might need to spend more to acquire fewer customers due to reduced market activity.\n",
            "\n",
            "**Unemployment Rates:**\n",
            "\n",
            "*   **Lower unemployment rates** (like the current 2.6%): Generally, a lower unemployment rate suggests a healthy economy with more people employed and having disposable income. This could lead to:\n",
            "    *   **Increased MAU:** More people with disposable income are more likely to spend on technology, increasing MAU.\n",
            "    *   **Potentially Lower CAC:** A strong economy might make it easier to acquire customers, potentially lowering CAC.\n",
            "*   **Higher unemployment rates:** Higher unemployment means less disposable income and reduced consumer spending, which can lead to:\n",
            "    *   **Decreased or stagnant MAU:** Fewer people can afford or are willing to spend on tech products/services, thus impacting MAU.\n",
            "    *   **Increased CAC:** Companies might need to spend more to acquire customers in a weaker economy.\n",
            "\n",
            "**In summary:**\n",
            "\n",
            "The current economic indicators for Japan suggest a positive environment for the technology sector. The low interest rate and low unemployment rate can contribute to increased MAU and potentially lower CAC. However, these are general trends, and the actual impact will depend on various other factors such as the specific technology sector, competition, and overall market conditions.\n",
            "\n",
            "To get a more detailed analysis, it would be beneficial to look at specific KPIs for the technology sector in Japan.\n"
          ]
        }
      ]
    },
    {
      "cell_type": "code",
      "source": [
        "inputs = {\"messages\": [(\"user\", \"Calculate the inflation rate for a base price of $50 and a current price of $65. Then, assess how such inflation levels could impact KPIs in the manufacturing sector, including Overall Equipment Effectiveness and Unit Production Cost, in Germany.\")]}\n",
        "print_stream(graph.stream(inputs, stream_mode=\"values\"))"
      ],
      "metadata": {
        "colab": {
          "base_uri": "https://localhost:8080/"
        },
        "id": "I9xEhBQSDDS8",
        "outputId": "a5de3d6c-9342-49c0-f400-0cfdd73b1dcb"
      },
      "execution_count": 12,
      "outputs": [
        {
          "output_type": "stream",
          "name": "stdout",
          "text": [
            "================================\u001b[1m Human Message \u001b[0m=================================\n",
            "\n",
            "Calculate the inflation rate for a base price of $50 and a current price of $65. Then, assess how such inflation levels could impact KPIs in the manufacturing sector, including Overall Equipment Effectiveness and Unit Production Cost, in Germany.\n",
            "==================================\u001b[1m Ai Message \u001b[0m==================================\n",
            "Tool Calls:\n",
            "  calculate_inflation (56987f90-cf30-409c-808a-b2f2c3c1770c)\n",
            " Call ID: 56987f90-cf30-409c-808a-b2f2c3c1770c\n",
            "  Args:\n",
            "    current_price: 65.0\n",
            "    base_price: 50.0\n",
            "  list_kpis_for_sector (d2b68ae8-136e-4ac7-9c23-ccfc6d627805)\n",
            " Call ID: d2b68ae8-136e-4ac7-9c23-ccfc6d627805\n",
            "  Args:\n",
            "    sector: manufacturing\n",
            "=================================\u001b[1m Tool Message \u001b[0m=================================\n",
            "Name: list_kpis_for_sector\n",
            "\n",
            "[\"Overall Equipment Effectiveness\", \"Unit Production Cost\", \"Cycle Time\"]\n",
            "==================================\u001b[1m Ai Message \u001b[0m==================================\n",
            "\n",
            "The inflation rate is 30.00%. This level of inflation could significantly impact the manufacturing sector in Germany.\n",
            "\n",
            "**Impact on KPIs:**\n",
            "\n",
            "*   **Overall Equipment Effectiveness (OEE):** High inflation can lead to increased costs for raw materials, energy, and maintenance. If manufacturers cannot pass these costs onto consumers, they may look to reduce costs by cutting back on maintenance or using cheaper materials, which can negatively impact OEE by increasing downtime and reducing output quality.\n",
            "*   **Unit Production Cost:** Inflation directly increases the cost of inputs like raw materials, energy, and labor. This leads to a higher unit production cost, which can reduce profit margins if not offset by price increases, potentially making German manufacturers less competitive.\n",
            "*   **Other KPIs:** While not directly mentioned, other KPIs like cycle time could be affected if manufacturers switch to cheaper but lower quality materials, potentially causing production delays.\n",
            "In summary, a 30% inflation rate poses a substantial challenge to the manufacturing sector in Germany, potentially affecting key performance indicators like OEE and unit production cost.\n"
          ]
        }
      ]
    }
  ]
}